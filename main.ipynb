{
 "nbformat": 4,
 "nbformat_minor": 2,
 "metadata": {
  "language_info": {
   "name": "python",
   "codemirror_mode": {
    "name": "ipython",
    "version": 3
   },
   "version": "3.6.9"
  },
  "orig_nbformat": 2,
  "file_extension": ".py",
  "mimetype": "text/x-python",
  "name": "python",
  "npconvert_exporter": "python",
  "pygments_lexer": "ipython3",
  "version": 3
 },
 "cells": [
  {
   "cell_type": "code",
   "execution_count": 5,
   "metadata": {},
   "outputs": [],
   "source": [
    "import feedparser\n",
    "import json\n",
    "import googlefinance\n",
    "from nltk.sentiment.vader import SentimentIntensityAnalyzer\n",
    "import pandas as pd\n",
    "import bs4 as bs\n",
    "import urllib.request\n",
    "from yahoo_fin import stock_info as si\n",
    "import datetime\n",
    "import time"
   ]
  },
  {
   "cell_type": "code",
   "execution_count": 6,
   "metadata": {},
   "outputs": [],
   "source": [
    "gainers = si.get_day_gainers()\n",
    "gainers.columns = ['SYM', 'Company', 'Current Price', 'Price Change', 'Percentage Change', 'Volume'\t, 'Avg Vol', 'Market Cap', '52 Week Range']\n",
    "gainers.sort_values(\"Price Change\", axis = 0, ascending = False, inplace = True)\n"
   ]
  },
  {
   "cell_type": "code",
   "execution_count": 7,
   "metadata": {},
   "outputs": [],
   "source": [
    "end = datetime.date.today()\n",
    "start = end - datetime.timedelta(days=200)\n",
    "stock_watchlist = []\n",
    "for stock in gainers['SYM']:\n",
    "\n",
    "    s_hist_data = si.get_data(stock , start_date = str(start) , end_date = str(end))\n",
    "\n",
    "    var = s_hist_data.mean(axis=0, skipna = True)\n",
    "    avg = (float(var[0]) + float(var[1]))/2\n",
    "\n",
    "    curr_price = si.get_live_price(stock)\n",
    "    if (avg < curr_price):\n",
    "        stock_watchlist.append(stock)\n"
   ]
  },
  {
   "cell_type": "code",
   "execution_count": 8,
   "metadata": {},
   "outputs": [
    {
     "name": "stdout",
     "output_type": "stream",
     "text": "['TXG', 'ZLAB', 'PGNY', 'STMEF', 'EPZM', 'LK', 'SPCE', 'BEST', 'LPL', 'NBGIF', 'GNW', 'NHYKF', 'SFOSF', 'TTRAF', 'SJMHF', 'ITVPF', 'CMCLF']\n"
    }
   ],
   "source": [
    "print(stock_watchlist)"
   ]
  },
  {
   "cell_type": "code",
   "execution_count": 13,
   "metadata": {},
   "outputs": [],
   "source": [
    "data = {}\n",
    "today_stock_price = pd.DataFrame\n",
    "i =0\n",
    "while i < 2:\n",
    "    i+=1\n",
    "    #possible threading?\n",
    "    #time.sleep(10)\n",
    "    for stock in stock_watchlist:\n",
    "        data[stock] = si.get_live_price(stock)\n",
    "    today_stock_price.append(data, ignore_index=True).T\n",
    "    print(today_stock_price)"
   ]
  },
  {
   "cell_type": "code",
   "execution_count": null,
   "metadata": {},
   "outputs": [],
   "source": []
  }
 ]
}