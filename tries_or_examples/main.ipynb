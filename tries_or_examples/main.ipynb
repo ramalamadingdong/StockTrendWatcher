{
 "nbformat": 4,
 "nbformat_minor": 2,
 "metadata": {
  "language_info": {
   "name": "python",
   "codemirror_mode": {
    "name": "ipython",
    "version": 3
   },
   "version": "3.6.9"
  },
  "orig_nbformat": 2,
  "file_extension": ".py",
  "mimetype": "text/x-python",
  "name": "python",
  "npconvert_exporter": "python",
  "pygments_lexer": "ipython3",
  "version": 3
 },
 "cells": [
  {
   "cell_type": "code",
   "execution_count": 2,
   "metadata": {},
   "outputs": [],
   "source": [
    "import feedparser\n",
    "import json\n",
    "import googlefinance\n",
    "from nltk.sentiment.vader import SentimentIntensityAnalyzer\n",
    "import pandas as pd\n",
    "import bs4 as bs\n",
    "import urllib.request\n",
    "from yahoo_fin import stock_info as si\n",
    "import datetime\n",
    "import time"
   ]
  },
  {
   "cell_type": "code",
   "execution_count": 3,
   "metadata": {},
   "outputs": [],
   "source": [
    "gainers = si.get_day_gainers()\n",
    "gainers.columns = ['SYM', 'Company', 'Current Price', 'Price Change', 'Percentage Change', 'Volume'\t, 'Avg Vol', 'Market Cap', '52 Week Range']\n",
    "gainers.sort_values(\"Price Change\", axis = 0, ascending = False, inplace = True)\n"
   ]
  },
  {
   "cell_type": "code",
   "execution_count": 4,
   "metadata": {},
   "outputs": [],
   "source": [
    "end = datetime.date.today()\n",
    "start = end - datetime.timedelta(days=200)\n",
    "stock_watchlist = []\n",
    "for stock in gainers['SYM']:\n",
    "\n",
    "    s_hist_data = si.get_data(stock , start_date = str(start) , end_date = str(end))\n",
    "\n",
    "    var = s_hist_data.mean(axis=0, skipna = True)\n",
    "    avg = (float(var[0]) + float(var[1]))/2\n",
    "\n",
    "    curr_price = si.get_live_price(stock)\n",
    "    if (avg < curr_price):\n",
    "        stock_watchlist.append(stock)\n"
   ]
  },
  {
   "cell_type": "code",
   "execution_count": 5,
   "metadata": {},
   "outputs": [
    {
     "name": "stdout",
     "output_type": "stream",
     "text": "['TXG', 'ZLAB', 'PGNY', 'STMEF', 'EPZM', 'LK', 'SPCE', 'BEST', 'LPL', 'NBGIF', 'NHYKF', 'SFOSF', 'TTRAF', 'SJMHF', 'ITVPF', 'CMCLF']\n"
    }
   ],
   "source": [
    "print(stock_watchlist)"
   ]
  },
  {
   "cell_type": "code",
   "execution_count": 6,
   "metadata": {},
   "outputs": [
    {
     "name": "stdout",
     "output_type": "stream",
     "text": "TXG ZLAB PGNY STMEF EPZM  LK SPCE BEST LPL NBGIF NHYKF SFOSF TTRAF SJMHF  \\\n0   60   59   71    27   87   7   32   83  77    78    51    19    30    30   \n1   34   26   99     2   22  20   71   70  51    95    25     5    65    26   \n2   83   98   66    16    9  64   11   46  56    49    71    11    51    22   \n3   26   39   49    16   28  44   23   24  93    45    25    40    54    69   \n4   74   51   74    19   33  21   54   64  22    75    34    95    69    27   \n..  ..  ...  ...   ...  ...  ..  ...  ...  ..   ...   ...   ...   ...   ...   \n95  62   84   56    98   26  45   70   34  72    83    18    34    17    37   \n96  62   77   86    25   34  77   47   16  65    44    12    50    88   100   \n97  37   39   25    93   21  86    8   81   7    74    95    99    76    32   \n98  16   68    0    45   14   8    9   85  42    85    21    12    57    74   \n99  76   23   84    61    4  56   31    0  18    45    66     6    30    28   \n\n   ITVPF CMCLF  \n0     45     8  \n1     34    20  \n2     24    71  \n3     70    78  \n4     81    53  \n..   ...   ...  \n95    90    49  \n96    90    94  \n97    79    31  \n98    14     0  \n99    94    59  \n\n[100 rows x 16 columns]\n"
    }
   ],
   "source": [
    "import random\n",
    "i =0\n",
    "\n",
    "# Creating an empty Dataframe with column names only\n",
    "today_stock_price = pd.DataFrame(columns=stock_watchlist)\n",
    "\n",
    "while i < 100:\n",
    "    i+=1\n",
    "    #possible threading?\n",
    "    #time.sleep(30)\n",
    "    data = {}\n",
    "    for stock in stock_watchlist:\n",
    "        #data[stock] = si.get_live_price(stock)\n",
    "        data[stock] = random.randint(0, 100)\n",
    "    today_stock_price = today_stock_price.append(data, ignore_index=True)\n",
    "\n",
    "    #55 row\n",
    "\n",
    "\n",
    "print(today_stock_price)"
   ]
  },
  {
   "cell_type": "code",
   "execution_count": 9,
   "metadata": {},
   "outputs": [
    {
     "name": "stdout",
     "output_type": "stream",
     "text": "TXG      0.161616\nZLAB    -0.363636\nPGNY     0.131313\nSTMEF    0.343434\nEPZM    -0.838384\nLK       0.494949\nSPCE    -0.010101\nBEST    -0.838384\nLPL     -0.595960\nNBGIF   -0.333333\nNHYKF    0.151515\nSFOSF   -0.131313\nTTRAF    0.000000\nSJMHF   -0.020202\nITVPF    0.494949\nCMCLF    0.515152\ndtype: float64\n"
    }
   ],
   "source": [
    "import pandas_helper_calc\n",
    "dy1dx = today_stock_price.calc.derivative()\n",
    "var = dy1dx.mean(axis=0, skipna = True)\n",
    "print(var)\n"
   ]
  },
  {
   "cell_type": "code",
   "execution_count": null,
   "metadata": {},
   "outputs": [],
   "source": []
  }
 ]
}